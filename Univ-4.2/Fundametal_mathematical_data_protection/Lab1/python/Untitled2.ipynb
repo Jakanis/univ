{
  "nbformat": 4,
  "nbformat_minor": 0,
  "metadata": {
    "colab": {
      "name": "Untitled2.ipynb",
      "provenance": [],
      "collapsed_sections": []
    },
    "kernelspec": {
      "name": "python3",
      "display_name": "Python 3"
    }
  },
  "cells": [
    {
      "cell_type": "code",
      "metadata": {
        "id": "pgXiVGy2RWzz",
        "colab_type": "code",
        "colab": {}
      },
      "source": [
        "\n",
        "def gcd(a, b):\n",
        "    a = abs(a);\n",
        "    b = abs(b);\n",
        "\n",
        "    k = 1;\n",
        "    while (a % 2 == 0 and b % 2 == 0):\n",
        "        a /= 2\n",
        "        b /= 2\n",
        "        k *= 2\n",
        "\n",
        "    p = 1\n",
        "    q = 0\n",
        "    r = 0\n",
        "    s = 1\n",
        "    while (a>0 and b>0):\n",
        "        if (a >= b):\n",
        "            a -= b\n",
        "            p -= r\n",
        "            q -= s;\n",
        "        else:\n",
        "            b -= a; r -= p; s -= q;\n",
        "    return (p, q, k * a) if a!=0 else (r, s, k * b)\n",
        "\n",
        "def diofant(a,b,c):\n",
        "    print(f\"a = {a}\\nb = {b}\\nc = {c}\")\n",
        "\n",
        "    ans = gcd(a, b)\n",
        "    u = ans[0]\n",
        "    v = ans[1]\n",
        "    d = ans[2]\n",
        "    s = 0\n",
        "    t = 0\n",
        "    print(f\"{u} * {a} + {v} * {b} = {d}\")\n",
        "\n",
        "    if (c % d == 0):\n",
        "        s = int(u * (c / d))\n",
        "        t = int(v * (c / d))\n",
        "        print(f\"{s} * {a} + {t} * {b} = {c}\")\n",
        "    else:\n",
        "        print(f\"s * {a} + t * {b} = {c} has no answer in integer numbers\")\n",
        "\n",
        "    print(f\"d = {d}\");\n",
        "    print(f\"u = {u}\");\n",
        "    print(f\"v = {v}\");\n",
        "    print(f\"s = {s}\");\n",
        "    print(f\"t = {t}\");\n",
        "    print(\"---------------------------------------\");"
      ],
      "execution_count": 0,
      "outputs": []
    },
    {
      "cell_type": "code",
      "metadata": {
        "id": "J1C4y3trWNYZ",
        "colab_type": "code",
        "colab": {
          "base_uri": "https://localhost:8080/",
          "height": 578
        },
        "outputId": "d847acb5-4d3a-42f5-a3c8-c7b3411d9990"
      },
      "source": [
        "diofant(66, 15, 21);\n",
        "diofant(7705636, 7121729, 7519);\n",
        "diofant(2101106450462279, 628817143587126, 45162);"
      ],
      "execution_count": 45,
      "outputs": [
        {
          "output_type": "stream",
          "text": [
            "a = 66\n",
            "b = 15\n",
            "c = 21\n",
            "-2 * 66 + 9 * 15 = 3\n",
            "-14 * 66 + 63 * 15 = 21\n",
            "d = 3\n",
            "u = -2\n",
            "v = 9\n",
            "s = -14\n",
            "t = 63\n",
            "---------------------------------------\n",
            "a = 7705636\n",
            "b = 7121729\n",
            "c = 7519\n",
            "-47811 * 7705636 + 51731 * 7121729 = 103\n",
            "-3490203 * 7705636 + 3776363 * 7121729 = 7519\n",
            "d = 103\n",
            "u = -47811\n",
            "v = 51731\n",
            "s = -3490203\n",
            "t = 3776363\n",
            "---------------------------------------\n",
            "a = 2101106450462279\n",
            "b = 628817143587126\n",
            "c = 45162\n",
            "-33750596302405 * 2101106450462279 + 112772999784008 * 628817143587126 = 13\n",
            "-117249571554554976 * 2101106450462279 + 391773401249643776 * 628817143587126 = 45162\n",
            "d = 13\n",
            "u = -33750596302405\n",
            "v = 112772999784008\n",
            "s = -117249571554554976\n",
            "t = 391773401249643776\n",
            "---------------------------------------\n"
          ],
          "name": "stdout"
        }
      ]
    },
    {
      "cell_type": "code",
      "metadata": {
        "id": "cqqgX94WWPka",
        "colab_type": "code",
        "colab": {
          "base_uri": "https://localhost:8080/",
          "height": 204
        },
        "outputId": "3510c8c4-c0a9-4b23-dbc8-b12e93eacd9e"
      },
      "source": [
        "diofant(585, 174, 15)"
      ],
      "execution_count": 48,
      "outputs": [
        {
          "output_type": "stream",
          "text": [
            "a = 585\n",
            "b = 174\n",
            "c = 15\n",
            "-11 * 585 + 37 * 174 = 3\n",
            "-55 * 585 + 185 * 174 = 15\n",
            "d = 3\n",
            "u = -11\n",
            "v = 37\n",
            "s = -55\n",
            "t = 185\n",
            "---------------------------------------\n"
          ],
          "name": "stdout"
        }
      ]
    },
    {
      "cell_type": "code",
      "metadata": {
        "id": "r1ykTeEzWQVs",
        "colab_type": "code",
        "colab": {}
      },
      "source": [
        ""
      ],
      "execution_count": 0,
      "outputs": []
    }
  ]
}